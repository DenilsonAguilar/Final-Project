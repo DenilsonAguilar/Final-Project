{
 "cells": [
  {
   "cell_type": "markdown",
   "id": "5f894c68",
   "metadata": {},
   "source": [
    "##  Milestone 2 - Project 2"
   ]
  },
  {
   "cell_type": "markdown",
   "id": "d2583f57",
   "metadata": {},
   "source": [
    "**Name: Denilson Wilson Aguilar Molina**\n",
    "\n",
    "**Date: 04/16/2024**"
   ]
  },
  {
   "cell_type": "code",
   "execution_count": 2,
   "id": "a761fa7d",
   "metadata": {},
   "outputs": [],
   "source": [
    "#Importing pandas\n",
    "import pandas as pd"
   ]
  },
  {
   "cell_type": "markdown",
   "id": "4bfb864a",
   "metadata": {},
   "source": [
    "Viewing from the Excel file, the given dataset that I am working with is rather large as it contains 1000 rows of different imdb movies, containing 16 columns in total. The headers for each colum follow as Poster_Link, Series_Title, Released_Year, Certificate, Runtime, Genre, IMDB_Rating, Overview, Meta_score, Director, Star1, Star2, Star3, Star4, No_of_Votes, Gross.\n",
    "\n",
    "This is where the dataset is read into a pandas dataframe."
   ]
  },
  {
   "cell_type": "code",
   "execution_count": 4,
   "id": "3c6672a1",
   "metadata": {},
   "outputs": [],
   "source": [
    "df = pd.read_csv('imdb_movies.csv')"
   ]
  },
  {
   "cell_type": "markdown",
   "id": "32033a7d",
   "metadata": {},
   "source": [
    "I will be following the provided order in the given part of this project for how I go about using the basic properties of a dataset.\n",
    "\n",
    "I will start off using describe()"
   ]
  },
  {
   "cell_type": "code",
   "execution_count": 9,
   "id": "bb35fdbd",
   "metadata": {},
   "outputs": [
    {
     "name": "stdout",
     "output_type": "stream",
     "text": [
      "Results:\n",
      "       IMDB_Rating  Meta_score   No_of_Votes\n",
      "count  1000.000000  843.000000  1.000000e+03\n",
      "mean      7.949300   77.971530  2.736929e+05\n",
      "std       0.275491   12.376099  3.273727e+05\n",
      "min       7.600000   28.000000  2.508800e+04\n",
      "25%       7.700000   70.000000  5.552625e+04\n",
      "50%       7.900000   79.000000  1.385485e+05\n",
      "75%       8.100000   87.000000  3.741612e+05\n",
      "max       9.300000  100.000000  2.343110e+06\n"
     ]
    }
   ],
   "source": [
    "#Included this print to help illustrate that the results below are from describe()\n",
    "print(\"Results:\")\n",
    "\n",
    "print(df.describe())"
   ]
  },
  {
   "cell_type": "markdown",
   "id": "3a2e16e0",
   "metadata": {},
   "source": [
    "This appears to be only refering to the IMDB ratings, meta score, and Number of votes. \n",
    "\n",
    "The average IMDB rating of movies is be 7.95 with a minimum of 7.6 and a maximum of 9.3, These ratings have a standard deviation of 0.28. \n",
    "\n",
    "The average meta score of movies is be 77.97 with a minimum of 28 and a maximum of 100, These ratings have a standard deviation of 12.38. \n",
    "\n",
    "The average number of votes for movies would be 273,692 with a minimum of 25,088 and a maximum of 2,343,110, These ratings have a standard deviation of 327,373. \n",
    "\n",
    "\n",
    "Below I'll be using columns."
   ]
  },
  {
   "cell_type": "code",
   "execution_count": 10,
   "id": "b743f81d",
   "metadata": {},
   "outputs": [
    {
     "name": "stdout",
     "output_type": "stream",
     "text": [
      "Columns from the IMBD Movies dataset:\n",
      "Index(['Poster_Link', 'Series_Title', 'Released_Year', 'Certificate',\n",
      "       'Runtime', 'Genre', 'IMDB_Rating', 'Overview', 'Meta_score', 'Director',\n",
      "       'Star1', 'Star2', 'Star3', 'Star4', 'No_of_Votes', 'Gross'],\n",
      "      dtype='object')\n"
     ]
    }
   ],
   "source": [
    "print(\"Columns from the IMBD Movies dataset:\")\n",
    "print(df.columns)"
   ]
  },
  {
   "cell_type": "markdown",
   "id": "95c2614c",
   "metadata": {},
   "source": [
    "The provided columns are exactly as the one's I was able to view from looking through the excel file itself.\n",
    "\n",
    "Below I'll be describing what each one refers to:\n",
    "\"Poster_Link\" refers to a link to the poster of the series/movie.\n",
    "\"Series_Title\" refers the title of the series/movie.\n",
    "\"Released_Year\" refers to the year the series/movie was released.\n",
    "\"Certificate\" refers to the certification or rating of the series/movie (e.g., PG-13, R, etc.).\n",
    "\"Runtime\" refers to the duration of the series/movie.\n",
    "\"Genre\" refers to the category or genre of the series/movie.\n",
    "\"IMDB_Rating\" refers to the Rating of the series/movie on IMDb.\n",
    "\"Overview\" refers to a brief overview or summary of the series/movie.\n",
    "\"Meta_score\" refers to the metascore of the series/movie.\n",
    "\"Director\" refers to the director/s of the series/movie.\n",
    "\"Star1, Star2, Star3, Star4\" refers to the lead actors or stars in the series/movie.\n",
    "\"No_of_Votes\" refers to the number of votes the series/movie has received.\n",
    "\"Gross\" refers to the gross revenue or earnings of the series/movie.\n",
    "\n",
    "I'll be using shape below"
   ]
  },
  {
   "cell_type": "code",
   "execution_count": 11,
   "id": "e75a5a39",
   "metadata": {},
   "outputs": [
    {
     "name": "stdout",
     "output_type": "stream",
     "text": [
      "dataset shape: (1000, 16)\n"
     ]
    }
   ],
   "source": [
    "print(\"dataset shape:\", df.shape)"
   ]
  },
  {
   "cell_type": "markdown",
   "id": "02a5723b",
   "metadata": {},
   "source": [
    "This shows that the datset itself does contain 1000 rows and 16 columns, each row represents a different items that under the given columns, each column represents a different attribute.\n",
    "\n",
    "I will now be using dtypes"
   ]
  },
  {
   "cell_type": "code",
   "execution_count": 12,
   "id": "599ecff6",
   "metadata": {},
   "outputs": [
    {
     "name": "stdout",
     "output_type": "stream",
     "text": [
      "data types of columns:\n",
      "Poster_Link       object\n",
      "Series_Title      object\n",
      "Released_Year     object\n",
      "Certificate       object\n",
      "Runtime           object\n",
      "Genre             object\n",
      "IMDB_Rating      float64\n",
      "Overview          object\n",
      "Meta_score       float64\n",
      "Director          object\n",
      "Star1             object\n",
      "Star2             object\n",
      "Star3             object\n",
      "Star4             object\n",
      "No_of_Votes        int64\n",
      "Gross             object\n",
      "dtype: object\n"
     ]
    }
   ],
   "source": [
    "print(\"data types of columns:\")\n",
    "print(df.dtypes)"
   ]
  },
  {
   "cell_type": "markdown",
   "id": "39d5042f",
   "metadata": {},
   "source": [
    "What can be gathered from this is that columns such as \"Poster_Link\", \"Series_Title\", \"Released_Year\", \"Certificate\", \"Runtime\", \"Genre\", \"Overview\", \"Director\", \"Star1\", \"Star2\", \"Star3\", \"Star4\", and \"Gross\" are object type. \n",
    "Columns such as \"IMDB_Rating\" and \"Meta_score\" are float64 type.\n",
    "The column \"No_of_Votes\" is the int64 type.\n",
    "\n",
    "Below the head() will be used"
   ]
  },
  {
   "cell_type": "code",
   "execution_count": 17,
   "id": "c0c14465",
   "metadata": {},
   "outputs": [
    {
     "name": "stdout",
     "output_type": "stream",
     "text": [
      "First rows from the movie dataset:\n",
      "                                         Poster_Link  \\\n",
      "0  https://m.media-amazon.com/images/M/MV5BMDFkYT...   \n",
      "1  https://m.media-amazon.com/images/M/MV5BM2MyNj...   \n",
      "2  https://m.media-amazon.com/images/M/MV5BMTMxNT...   \n",
      "3  https://m.media-amazon.com/images/M/MV5BMWMwMG...   \n",
      "4  https://m.media-amazon.com/images/M/MV5BMWU4N2...   \n",
      "\n",
      "               Series_Title Released_Year Certificate  Runtime  \\\n",
      "0  The Shawshank Redemption          1994           A  142 min   \n",
      "1             The Godfather          1972           A  175 min   \n",
      "2           The Dark Knight          2008          UA  152 min   \n",
      "3    The Godfather: Part II          1974           A  202 min   \n",
      "4              12 Angry Men          1957           U   96 min   \n",
      "\n",
      "                  Genre  IMDB_Rating  \\\n",
      "0                 Drama          9.3   \n",
      "1          Crime, Drama          9.2   \n",
      "2  Action, Crime, Drama          9.0   \n",
      "3          Crime, Drama          9.0   \n",
      "4          Crime, Drama          9.0   \n",
      "\n",
      "                                            Overview  Meta_score  \\\n",
      "0  Two imprisoned men bond over a number of years...        80.0   \n",
      "1  An organized crime dynasty's aging patriarch t...       100.0   \n",
      "2  When the menace known as the Joker wreaks havo...        84.0   \n",
      "3  The early life and career of Vito Corleone in ...        90.0   \n",
      "4  A jury holdout attempts to prevent a miscarria...        96.0   \n",
      "\n",
      "               Director           Star1           Star2          Star3  \\\n",
      "0        Frank Darabont     Tim Robbins  Morgan Freeman     Bob Gunton   \n",
      "1  Francis Ford Coppola   Marlon Brando       Al Pacino     James Caan   \n",
      "2     Christopher Nolan  Christian Bale    Heath Ledger  Aaron Eckhart   \n",
      "3  Francis Ford Coppola       Al Pacino  Robert De Niro  Robert Duvall   \n",
      "4          Sidney Lumet     Henry Fonda     Lee J. Cobb  Martin Balsam   \n",
      "\n",
      "            Star4  No_of_Votes        Gross  \n",
      "0  William Sadler      2343110   28,341,469  \n",
      "1    Diane Keaton      1620367  134,966,411  \n",
      "2   Michael Caine      2303232  534,858,444  \n",
      "3    Diane Keaton      1129952   57,300,000  \n",
      "4    John Fiedler       689845    4,360,000  \n"
     ]
    }
   ],
   "source": [
    "print(\"First rows from the movie dataset:\")\n",
    "print(df.head())"
   ]
  },
  {
   "cell_type": "markdown",
   "id": "90b71d7a",
   "metadata": {},
   "source": [
    "What can be seen are the top few rows of the movie dataset, along with the information corresponding to each one.\n",
    "\n",
    "Below I'll be using tail()"
   ]
  },
  {
   "cell_type": "code",
   "execution_count": 18,
   "id": "7e845a26",
   "metadata": {},
   "outputs": [
    {
     "name": "stdout",
     "output_type": "stream",
     "text": [
      "Last rows of movie dataset:\n",
      "                                           Poster_Link  \\\n",
      "995  https://m.media-amazon.com/images/M/MV5BNGEwMT...   \n",
      "996  https://m.media-amazon.com/images/M/MV5BODk3Yj...   \n",
      "997  https://m.media-amazon.com/images/M/MV5BM2U3Yz...   \n",
      "998  https://m.media-amazon.com/images/M/MV5BZTBmMj...   \n",
      "999  https://m.media-amazon.com/images/M/MV5BMTY5OD...   \n",
      "\n",
      "               Series_Title Released_Year Certificate  Runtime  \\\n",
      "995  Breakfast at Tiffany's          1961           A  115 min   \n",
      "996                   Giant          1956           G  201 min   \n",
      "997   From Here to Eternity          1953      Passed  118 min   \n",
      "998                Lifeboat          1944         NaN   97 min   \n",
      "999            The 39 Steps          1935         NaN   86 min   \n",
      "\n",
      "                        Genre  IMDB_Rating  \\\n",
      "995    Comedy, Drama, Romance          7.6   \n",
      "996            Drama, Western          7.6   \n",
      "997       Drama, Romance, War          7.6   \n",
      "998                Drama, War          7.6   \n",
      "999  Crime, Mystery, Thriller          7.6   \n",
      "\n",
      "                                              Overview  Meta_score  \\\n",
      "995  A young New York socialite becomes interested ...        76.0   \n",
      "996  Sprawling epic covering the life of a Texas ca...        84.0   \n",
      "997  In Hawaii in 1941, a private is cruelly punish...        85.0   \n",
      "998  Several survivors of a torpedoed merchant ship...        78.0   \n",
      "999  A man in London tries to help a counter-espion...        93.0   \n",
      "\n",
      "             Director              Star1              Star2           Star3  \\\n",
      "995     Blake Edwards     Audrey Hepburn     George Peppard   Patricia Neal   \n",
      "996    George Stevens   Elizabeth Taylor        Rock Hudson      James Dean   \n",
      "997    Fred Zinnemann     Burt Lancaster   Montgomery Clift    Deborah Kerr   \n",
      "998  Alfred Hitchcock  Tallulah Bankhead        John Hodiak   Walter Slezak   \n",
      "999  Alfred Hitchcock       Robert Donat  Madeleine Carroll  Lucie Mannheim   \n",
      "\n",
      "              Star4  No_of_Votes       Gross  \n",
      "995     Buddy Ebsen       166544         NaN  \n",
      "996   Carroll Baker        34075         NaN  \n",
      "997      Donna Reed        43374  30,500,000  \n",
      "998  William Bendix        26471         NaN  \n",
      "999  Godfrey Tearle        51853         NaN  \n"
     ]
    }
   ],
   "source": [
    "print(\"Last rows of movie dataset:\")\n",
    "print(df.tail())"
   ]
  },
  {
   "cell_type": "markdown",
   "id": "c1d81385",
   "metadata": {},
   "source": [
    "This shows the last few rows of the movies datasetm providing a glimpse of the entries at the end. \n",
    "\n",
    "I'll be using sample() below"
   ]
  },
  {
   "cell_type": "code",
   "execution_count": 15,
   "id": "94f0409e",
   "metadata": {},
   "outputs": [
    {
     "name": "stdout",
     "output_type": "stream",
     "text": [
      "Random sample of the dataset:\n",
      "                                           Poster_Link  Series_Title  \\\n",
      "845  https://m.media-amazon.com/images/M/MV5BYmVhMD...  Le locataire   \n",
      "\n",
      "    Released_Year Certificate  Runtime            Genre  IMDB_Rating  \\\n",
      "845          1976           R  126 min  Drama, Thriller          7.7   \n",
      "\n",
      "                                              Overview  Meta_score  \\\n",
      "845  A bureaucrat rents a Paris apartment where he ...        71.0   \n",
      "\n",
      "           Director           Star1            Star2           Star3  \\\n",
      "845  Roman Polanski  Roman Polanski  Isabelle Adjani  Melvyn Douglas   \n",
      "\n",
      "            Star4  No_of_Votes      Gross  \n",
      "845  Jo Van Fleet        39889  1,924,733  \n"
     ]
    }
   ],
   "source": [
    "print(\"Random sample of the dataset:\")\n",
    "print(df.sample())"
   ]
  },
  {
   "cell_type": "markdown",
   "id": "c09867fc",
   "metadata": {},
   "source": [
    "This shows a raandom sample from the dataset, it randomly selects rows and prints it out. \n",
    "\n",
    "Finally I'll be using info()"
   ]
  },
  {
   "cell_type": "code",
   "execution_count": 16,
   "id": "1ae81c99",
   "metadata": {},
   "outputs": [
    {
     "name": "stdout",
     "output_type": "stream",
     "text": [
      "Info from dataset:\n",
      "<class 'pandas.core.frame.DataFrame'>\n",
      "RangeIndex: 1000 entries, 0 to 999\n",
      "Data columns (total 16 columns):\n",
      " #   Column         Non-Null Count  Dtype  \n",
      "---  ------         --------------  -----  \n",
      " 0   Poster_Link    1000 non-null   object \n",
      " 1   Series_Title   1000 non-null   object \n",
      " 2   Released_Year  1000 non-null   object \n",
      " 3   Certificate    899 non-null    object \n",
      " 4   Runtime        1000 non-null   object \n",
      " 5   Genre          1000 non-null   object \n",
      " 6   IMDB_Rating    1000 non-null   float64\n",
      " 7   Overview       1000 non-null   object \n",
      " 8   Meta_score     843 non-null    float64\n",
      " 9   Director       1000 non-null   object \n",
      " 10  Star1          1000 non-null   object \n",
      " 11  Star2          1000 non-null   object \n",
      " 12  Star3          1000 non-null   object \n",
      " 13  Star4          1000 non-null   object \n",
      " 14  No_of_Votes    1000 non-null   int64  \n",
      " 15  Gross          831 non-null    object \n",
      "dtypes: float64(2), int64(1), object(13)\n",
      "memory usage: 125.1+ KB\n",
      "None\n"
     ]
    }
   ],
   "source": [
    "print(\"Info from dataset:\")\n",
    "print(df.info())"
   ]
  },
  {
   "cell_type": "markdown",
   "id": "bd0b116d",
   "metadata": {},
   "source": [
    "This shows the information about the movie dataset, it includes the data types of each column, the number of non-null values in each column, and memory usage.\n",
    "\n",
    "The dataset has 1000 entries/rows and 16 columns\n",
    "The memory ysage of the dataset is around 125.1 KB\n",
    "The non-null count columns show the number of non-null values in each column, there seems to be around 899 non null values in the Certificate column. This would mean there are 101 missing values in the column."
   ]
  },
  {
   "cell_type": "code",
   "execution_count": null,
   "id": "8fa63023",
   "metadata": {},
   "outputs": [],
   "source": []
  }
 ],
 "metadata": {
  "kernelspec": {
   "display_name": "Python 3 (ipykernel)",
   "language": "python",
   "name": "python3"
  },
  "language_info": {
   "codemirror_mode": {
    "name": "ipython",
    "version": 3
   },
   "file_extension": ".py",
   "mimetype": "text/x-python",
   "name": "python",
   "nbconvert_exporter": "python",
   "pygments_lexer": "ipython3",
   "version": "3.11.5"
  }
 },
 "nbformat": 4,
 "nbformat_minor": 5
}
