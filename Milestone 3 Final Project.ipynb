{
 "cells": [
  {
   "cell_type": "markdown",
   "id": "5f894c68",
   "metadata": {},
   "source": [
    "##  Milestone 3 - Final Project"
   ]
  },
  {
   "cell_type": "markdown",
   "id": "d2583f57",
   "metadata": {},
   "source": [
    "**Name: Denilson Wilson Aguilar Molina**\n",
    "\n",
    "**Date: 04/23/2024**"
   ]
  },
  {
   "cell_type": "code",
   "execution_count": 48,
   "id": "a761fa7d",
   "metadata": {},
   "outputs": [],
   "source": [
    "#Importing pandas\n",
    "import pandas as pd"
   ]
  },
  {
   "cell_type": "markdown",
   "id": "4bfb864a",
   "metadata": {},
   "source": [
    "This is where the dataset is read into a pandas dataframe."
   ]
  },
  {
   "cell_type": "code",
   "execution_count": 49,
   "id": "3c6672a1",
   "metadata": {},
   "outputs": [],
   "source": [
    "df = pd.read_csv('imdb_movies.csv')"
   ]
  },
  {
   "cell_type": "markdown",
   "id": "32033a7d",
   "metadata": {},
   "source": [
    "I used the column property to view the column names and review each name individually."
   ]
  },
  {
   "cell_type": "code",
   "execution_count": 50,
   "id": "f07d649b",
   "metadata": {},
   "outputs": [
    {
     "name": "stdout",
     "output_type": "stream",
     "text": [
      "Index(['Poster_Link', 'Series_Title', 'Released_Year', 'Certificate',\n",
      "       'Runtime', 'Genre', 'IMDB_Rating', 'Overview', 'Meta_score', 'Director',\n",
      "       'Star1', 'Star2', 'Star3', 'Star4', 'No_of_Votes', 'Gross'],\n",
      "      dtype='object')\n"
     ]
    }
   ],
   "source": [
    "print(df.columns)"
   ]
  },
  {
   "cell_type": "markdown",
   "id": "07708cf7",
   "metadata": {},
   "source": [
    "After reviewing each name I figured that some column names could be simplified even more, such as changing Poster_Link to Poster, I renamed only a few of them and kept the name for the ones that didn't need to be changed"
   ]
  },
  {
   "cell_type": "code",
   "execution_count": 51,
   "id": "7abe568f",
   "metadata": {},
   "outputs": [],
   "source": [
    "df.columns = [\"Poster\",\"Title\",\"Year\",\"Certificate\",\"Runtime\",\"Genre\",\"Rating\",\"Overview\",\"Metascore\",\"Director\",\"Star1\",\"Star2\",\"Star3\",\"Star4\",\"Votes\",\"Gross\"]"
   ]
  },
  {
   "cell_type": "code",
   "execution_count": 52,
   "id": "10a4cafc",
   "metadata": {},
   "outputs": [
    {
     "name": "stdout",
     "output_type": "stream",
     "text": [
      "Index(['Poster', 'Title', 'Year', 'Certificate', 'Runtime', 'Genre', 'Rating',\n",
      "       'Overview', 'Metascore', 'Director', 'Star1', 'Star2', 'Star3', 'Star4',\n",
      "       'Votes', 'Gross'],\n",
      "      dtype='object')\n"
     ]
    }
   ],
   "source": [
    "#This will display the changed column names\n",
    "print(df.columns)"
   ]
  },
  {
   "cell_type": "markdown",
   "id": "d8df84f0",
   "metadata": {},
   "source": [
    "This other change is from viewing the data frame itself in excel, I noticed that some rows under certain columns were empty, such as under the 'certificate' column. I decided to to replace them with instead, it doesn't make sense to leave them empty 'NaN'."
   ]
  },
  {
   "cell_type": "code",
   "execution_count": 53,
   "id": "39aaf4ff",
   "metadata": {},
   "outputs": [],
   "source": [
    "df['Certificate'].fillna('Not Rated', inplace=True)\n",
    "df['Gross'].fillna('Unknown', inplace=True) \n",
    "df['Metascore'].fillna('No Score', inplace=True) "
   ]
  },
  {
   "cell_type": "markdown",
   "id": "a92eda9b",
   "metadata": {},
   "source": [
    "I've also noticed that for at rows under 'Genre' there are multiple genre under each of them. I decided to simplify it by seperating the items in the column instead of leaving them all in the same one. This will make it easier to review and look upon the data itself, I decided it was best since it would make looking at it easier, It wouldn't be bunched up together."
   ]
  },
  {
   "cell_type": "code",
   "execution_count": 54,
   "id": "d84bf56e",
   "metadata": {},
   "outputs": [],
   "source": [
    "#This converts the 'Genre' column into strings\n",
    "df['Genre'] = df['Genre'].astype(str)\n",
    "\n",
    "#This splits the 'Genre' column into lists\n",
    "df['Genre'] = df['Genre'].str.split(',')\n",
    "\n",
    "#This extracts the first, second, and third genre into new columns\n",
    "df['Genre1'] = df['Genre'].str[0]\n",
    "df['Genre2'] = df['Genre'].str[1]\n",
    "df['Genre3'] = df['Genre'].str[2]\n",
    "\n",
    "\n",
    "#This removes the original 'Genre' column after the splitting\n",
    "df.drop('Genre', axis=1, inplace=True)\n",
    "#I did not want to have it repeating"
   ]
  },
  {
   "cell_type": "markdown",
   "id": "3812d393",
   "metadata": {},
   "source": [
    "Below I'm saving the file as a new cleaned file"
   ]
  },
  {
   "cell_type": "code",
   "execution_count": 55,
   "id": "af1e4ceb",
   "metadata": {},
   "outputs": [],
   "source": [
    "df.to_csv('cleaned_imdb_movies.csv', index=False)"
   ]
  },
  {
   "cell_type": "code",
   "execution_count": 56,
   "id": "5e992d8f",
   "metadata": {},
   "outputs": [
    {
     "data": {
      "text/html": [
       "<div>\n",
       "<style scoped>\n",
       "    .dataframe tbody tr th:only-of-type {\n",
       "        vertical-align: middle;\n",
       "    }\n",
       "\n",
       "    .dataframe tbody tr th {\n",
       "        vertical-align: top;\n",
       "    }\n",
       "\n",
       "    .dataframe thead th {\n",
       "        text-align: right;\n",
       "    }\n",
       "</style>\n",
       "<table border=\"1\" class=\"dataframe\">\n",
       "  <thead>\n",
       "    <tr style=\"text-align: right;\">\n",
       "      <th></th>\n",
       "      <th>Poster</th>\n",
       "      <th>Title</th>\n",
       "      <th>Year</th>\n",
       "      <th>Certificate</th>\n",
       "      <th>Runtime</th>\n",
       "      <th>Rating</th>\n",
       "      <th>Overview</th>\n",
       "      <th>Metascore</th>\n",
       "      <th>Director</th>\n",
       "      <th>Star1</th>\n",
       "      <th>Star2</th>\n",
       "      <th>Star3</th>\n",
       "      <th>Star4</th>\n",
       "      <th>Votes</th>\n",
       "      <th>Gross</th>\n",
       "      <th>Genre1</th>\n",
       "      <th>Genre2</th>\n",
       "      <th>Genre3</th>\n",
       "    </tr>\n",
       "  </thead>\n",
       "  <tbody>\n",
       "    <tr>\n",
       "      <th>0</th>\n",
       "      <td>https://m.media-amazon.com/images/M/MV5BMDFkYT...</td>\n",
       "      <td>The Shawshank Redemption</td>\n",
       "      <td>1994</td>\n",
       "      <td>A</td>\n",
       "      <td>142 min</td>\n",
       "      <td>9.3</td>\n",
       "      <td>Two imprisoned men bond over a number of years...</td>\n",
       "      <td>80.0</td>\n",
       "      <td>Frank Darabont</td>\n",
       "      <td>Tim Robbins</td>\n",
       "      <td>Morgan Freeman</td>\n",
       "      <td>Bob Gunton</td>\n",
       "      <td>William Sadler</td>\n",
       "      <td>2343110</td>\n",
       "      <td>28,341,469</td>\n",
       "      <td>Drama</td>\n",
       "      <td>NaN</td>\n",
       "      <td>NaN</td>\n",
       "    </tr>\n",
       "    <tr>\n",
       "      <th>1</th>\n",
       "      <td>https://m.media-amazon.com/images/M/MV5BM2MyNj...</td>\n",
       "      <td>The Godfather</td>\n",
       "      <td>1972</td>\n",
       "      <td>A</td>\n",
       "      <td>175 min</td>\n",
       "      <td>9.2</td>\n",
       "      <td>An organized crime dynasty's aging patriarch t...</td>\n",
       "      <td>100.0</td>\n",
       "      <td>Francis Ford Coppola</td>\n",
       "      <td>Marlon Brando</td>\n",
       "      <td>Al Pacino</td>\n",
       "      <td>James Caan</td>\n",
       "      <td>Diane Keaton</td>\n",
       "      <td>1620367</td>\n",
       "      <td>134,966,411</td>\n",
       "      <td>Crime</td>\n",
       "      <td>Drama</td>\n",
       "      <td>NaN</td>\n",
       "    </tr>\n",
       "    <tr>\n",
       "      <th>2</th>\n",
       "      <td>https://m.media-amazon.com/images/M/MV5BMTMxNT...</td>\n",
       "      <td>The Dark Knight</td>\n",
       "      <td>2008</td>\n",
       "      <td>UA</td>\n",
       "      <td>152 min</td>\n",
       "      <td>9.0</td>\n",
       "      <td>When the menace known as the Joker wreaks havo...</td>\n",
       "      <td>84.0</td>\n",
       "      <td>Christopher Nolan</td>\n",
       "      <td>Christian Bale</td>\n",
       "      <td>Heath Ledger</td>\n",
       "      <td>Aaron Eckhart</td>\n",
       "      <td>Michael Caine</td>\n",
       "      <td>2303232</td>\n",
       "      <td>534,858,444</td>\n",
       "      <td>Action</td>\n",
       "      <td>Crime</td>\n",
       "      <td>Drama</td>\n",
       "    </tr>\n",
       "    <tr>\n",
       "      <th>3</th>\n",
       "      <td>https://m.media-amazon.com/images/M/MV5BMWMwMG...</td>\n",
       "      <td>The Godfather: Part II</td>\n",
       "      <td>1974</td>\n",
       "      <td>A</td>\n",
       "      <td>202 min</td>\n",
       "      <td>9.0</td>\n",
       "      <td>The early life and career of Vito Corleone in ...</td>\n",
       "      <td>90.0</td>\n",
       "      <td>Francis Ford Coppola</td>\n",
       "      <td>Al Pacino</td>\n",
       "      <td>Robert De Niro</td>\n",
       "      <td>Robert Duvall</td>\n",
       "      <td>Diane Keaton</td>\n",
       "      <td>1129952</td>\n",
       "      <td>57,300,000</td>\n",
       "      <td>Crime</td>\n",
       "      <td>Drama</td>\n",
       "      <td>NaN</td>\n",
       "    </tr>\n",
       "    <tr>\n",
       "      <th>4</th>\n",
       "      <td>https://m.media-amazon.com/images/M/MV5BMWU4N2...</td>\n",
       "      <td>12 Angry Men</td>\n",
       "      <td>1957</td>\n",
       "      <td>U</td>\n",
       "      <td>96 min</td>\n",
       "      <td>9.0</td>\n",
       "      <td>A jury holdout attempts to prevent a miscarria...</td>\n",
       "      <td>96.0</td>\n",
       "      <td>Sidney Lumet</td>\n",
       "      <td>Henry Fonda</td>\n",
       "      <td>Lee J. Cobb</td>\n",
       "      <td>Martin Balsam</td>\n",
       "      <td>John Fiedler</td>\n",
       "      <td>689845</td>\n",
       "      <td>4,360,000</td>\n",
       "      <td>Crime</td>\n",
       "      <td>Drama</td>\n",
       "      <td>NaN</td>\n",
       "    </tr>\n",
       "  </tbody>\n",
       "</table>\n",
       "</div>"
      ],
      "text/plain": [
       "                                              Poster  \\\n",
       "0  https://m.media-amazon.com/images/M/MV5BMDFkYT...   \n",
       "1  https://m.media-amazon.com/images/M/MV5BM2MyNj...   \n",
       "2  https://m.media-amazon.com/images/M/MV5BMTMxNT...   \n",
       "3  https://m.media-amazon.com/images/M/MV5BMWMwMG...   \n",
       "4  https://m.media-amazon.com/images/M/MV5BMWU4N2...   \n",
       "\n",
       "                      Title  Year Certificate  Runtime  Rating  \\\n",
       "0  The Shawshank Redemption  1994           A  142 min     9.3   \n",
       "1             The Godfather  1972           A  175 min     9.2   \n",
       "2           The Dark Knight  2008          UA  152 min     9.0   \n",
       "3    The Godfather: Part II  1974           A  202 min     9.0   \n",
       "4              12 Angry Men  1957           U   96 min     9.0   \n",
       "\n",
       "                                            Overview Metascore  \\\n",
       "0  Two imprisoned men bond over a number of years...      80.0   \n",
       "1  An organized crime dynasty's aging patriarch t...     100.0   \n",
       "2  When the menace known as the Joker wreaks havo...      84.0   \n",
       "3  The early life and career of Vito Corleone in ...      90.0   \n",
       "4  A jury holdout attempts to prevent a miscarria...      96.0   \n",
       "\n",
       "               Director           Star1           Star2          Star3  \\\n",
       "0        Frank Darabont     Tim Robbins  Morgan Freeman     Bob Gunton   \n",
       "1  Francis Ford Coppola   Marlon Brando       Al Pacino     James Caan   \n",
       "2     Christopher Nolan  Christian Bale    Heath Ledger  Aaron Eckhart   \n",
       "3  Francis Ford Coppola       Al Pacino  Robert De Niro  Robert Duvall   \n",
       "4          Sidney Lumet     Henry Fonda     Lee J. Cobb  Martin Balsam   \n",
       "\n",
       "            Star4    Votes        Gross  Genre1  Genre2  Genre3  \n",
       "0  William Sadler  2343110   28,341,469   Drama     NaN     NaN  \n",
       "1    Diane Keaton  1620367  134,966,411   Crime   Drama     NaN  \n",
       "2   Michael Caine  2303232  534,858,444  Action   Crime   Drama  \n",
       "3    Diane Keaton  1129952   57,300,000   Crime   Drama     NaN  \n",
       "4    John Fiedler   689845    4,360,000   Crime   Drama     NaN  "
      ]
     },
     "execution_count": 56,
     "metadata": {},
     "output_type": "execute_result"
    }
   ],
   "source": [
    "df.head()"
   ]
  },
  {
   "cell_type": "code",
   "execution_count": null,
   "id": "39665b9e",
   "metadata": {},
   "outputs": [],
   "source": []
  },
  {
   "cell_type": "code",
   "execution_count": null,
   "id": "2d59d315",
   "metadata": {},
   "outputs": [],
   "source": []
  }
 ],
 "metadata": {
  "kernelspec": {
   "display_name": "Python 3 (ipykernel)",
   "language": "python",
   "name": "python3"
  },
  "language_info": {
   "codemirror_mode": {
    "name": "ipython",
    "version": 3
   },
   "file_extension": ".py",
   "mimetype": "text/x-python",
   "name": "python",
   "nbconvert_exporter": "python",
   "pygments_lexer": "ipython3",
   "version": "3.11.5"
  }
 },
 "nbformat": 4,
 "nbformat_minor": 5
}
